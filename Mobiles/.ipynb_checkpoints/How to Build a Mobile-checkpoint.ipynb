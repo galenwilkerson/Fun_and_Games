{
 "cells": [
  {
   "cell_type": "markdown",
   "metadata": {
    "collapsed": true
   },
   "source": [
    "# What is a Mobile?\n",
    "<br><br>\n"
   ]
  },
  {
   "cell_type": "code",
   "execution_count": 3,
   "metadata": {
    "collapsed": false
   },
   "outputs": [
    {
     "data": {
      "text/html": [
       "<style> div.code_cell{width: 50%;float: right;}div.text_cell{width: 50%;float: left;}div.text_cell div.prompt {display: none;}</style>"
      ],
      "text/plain": [
       "<IPython.core.display.HTML object>"
      ]
     },
     "execution_count": 3,
     "metadata": {},
     "output_type": "execute_result"
    }
   ],
   "source": [
    "from IPython.core.display import HTML\n",
    "HTML(\"<style> div.code_cell{width: 50%;float: right;}\"\n",
    "    +\"div.text_cell{width: 50%;float: left;}\"\n",
    "    +\"div.text_cell div.prompt {display: none;}</style>\")"
   ]
  },
  {
   "cell_type": "markdown",
   "metadata": {},
   "source": [
    "<img src=\"Mobile1.png\">"
   ]
  },
  {
   "cell_type": "markdown",
   "metadata": {},
   "source": [
    "# The mass of the entire mobile equals the sum of the left and right masses: \n",
    "\n",
    "(a slightly idealised mobile where we ignore arm and string weights)\n",
    "# $ m_0 = m_L + m_R$\n",
    "\n",
    "\n",
    "# But since it is balanced, we also have -\n",
    "\n",
    "# Left torque has to equal right torque\n",
    "# $\n",
    "a_L m_L = a_R m_R\n",
    "$\n",
    "\n",
    "# ... a simple physical linear computer!\n",
    "\n",
    "\n",
    "\n",
    "\n",
    "\n",
    "\n",
    "\n",
    "\n",
    "\n"
   ]
  },
  {
   "cell_type": "markdown",
   "metadata": {},
   "source": [
    "<img src=\"Mobile2.png\">"
   ]
  },
  {
   "cell_type": "markdown",
   "metadata": {},
   "source": [
    "# If we add one level to the mobile, we have a set of equations, since each small mobile must balance:\n",
    "\n",
    "# $\n",
    "a_L m_L = a_R m_R\n",
    "$\n",
    "\n",
    "# $\n",
    "a_{LL} m_{LL} = a_{LR} m_{LR}\n",
    "$\n",
    "\n",
    "# $\n",
    "a_{RL} m_{RL} = a_{RR} m_{RR}\n",
    "$\n"
   ]
  },
  {
   "cell_type": "markdown",
   "metadata": {},
   "source": [
    "# But since the middle masses $m_L$ and $m_R$ are just the sums of the masses below...\n",
    "\n",
    "\n",
    "# $m_L = m_{LL} + m_{LR}$\n",
    "# $m_R = m_{RL} + m_{RR}$\n",
    "\n",
    "# $\n",
    "a_L m_L = a_R m_R\n",
    "$\n",
    "\n",
    "# yields \n",
    "\n",
    "# $\n",
    "a_L (m_{LL} + m_{LR}) = a_R (m_{RL} + m_{RR})\n",
    "$\n",
    "\n",
    "\n",
    "# $\n",
    "a_{LL} m_{LL} = a_{LR} m_{LR}\n",
    "$\n",
    "\n",
    "# $\n",
    "a_{RL} m_{RL} = a_{RR} m_{RR}\n",
    "$\n",
    "\n",
    "# and since the arm lengths are related\n",
    "\n",
    "# $ a_1 = a_l + a_r $"
   ]
  },
  {
   "cell_type": "markdown",
   "metadata": {},
   "source": [
    "<img src=\"Mobile3.png\">"
   ]
  },
  {
   "cell_type": "markdown",
   "metadata": {},
   "source": [
    "# We would also not like our mobiles to self-collide when they rotate (in 3 dimensions)\n",
    "\n",
    "# $\n",
    "a_{LR} + a_{RL} \\lt a_1\n",
    "$\n",
    "\n",
    "# Similarly (rotation)\n",
    "\n",
    "# Left rotates\n",
    "# $\n",
    "a_{LL} + a_{RL} \\lt a_1\n",
    "$\n",
    "\n",
    "# Right rotates\n",
    "# $\n",
    "a_{LR} + a_{RR} \\lt a_1\n",
    "$\n",
    "\n",
    "# Both rotate\n",
    "# $\n",
    "a_{LL} + a_{RR} \\lt a_1\n",
    "$\n",
    "<p>"
   ]
  },
  {
   "cell_type": "code",
   "execution_count": null,
   "metadata": {
    "collapsed": true
   },
   "outputs": [],
   "source": []
  }
 ],
 "metadata": {
  "kernelspec": {
   "display_name": "Python 2",
   "language": "python",
   "name": "python2"
  },
  "language_info": {
   "codemirror_mode": {
    "name": "ipython",
    "version": 2
   },
   "file_extension": ".py",
   "mimetype": "text/x-python",
   "name": "python",
   "nbconvert_exporter": "python",
   "pygments_lexer": "ipython2",
   "version": "2.7.11"
  }
 },
 "nbformat": 4,
 "nbformat_minor": 0
}
